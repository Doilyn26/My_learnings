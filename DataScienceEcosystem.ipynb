{
 "cells": [
  {
   "cell_type": "markdown",
   "id": "ccdd77d7",
   "metadata": {},
   "source": [
    "# Data Science Tools and Ecosystem"
   ]
  },
  {
   "cell_type": "markdown",
   "id": "5cdcca14",
   "metadata": {},
   "source": [
    "In this notebook, Data Science Tools and Ecosystem are summarized\n",
    "\n",
    "Some of the popular languages that Data Scientists use are:\n",
    "\n",
    "1. Python - A general-purpose language that can be used for statistical analysis and visualizations\n",
    "2. R - A more specialized language that can be used for statistical analysis and visualizations\n",
    "3. SQL - A structured query language that can be used for manipulating structured data\n",
    "4. C++ - A language that can be faster than Python for computationally intensive tasks\n",
    "5. SAS - A language that is commonly used in business intelligence and is not recommended for beginners\n",
    "6. Julia - A language that can be used for data analysis and is sometimes called the successor to Python\n",
    "\n",
    "<b>Objectives:\n",
    "    \n",
    "<u1>1. Basics of jupyter notebook is used\n",
    "<li>how to use markdown cell, calculation using multiplication, division\n",
    "    \n",
    "<u1>2. List popular languages for Data Science\n",
    "<li> arthematic operation,\n",
    "<li> numpy"
   ]
  },
  {
   "cell_type": "code",
   "execution_count": 1,
   "id": "1b4dd256",
   "metadata": {},
   "outputs": [
    {
     "name": "stdout",
     "output_type": "stream",
     "text": [
      "Requirement already satisfied: tabulate in c:\\users\\leono\\anaconda3\\lib\\site-packages (0.8.10)\n",
      "Note: you may need to restart the kernel to use updated packages.\n"
     ]
    }
   ],
   "source": [
    "pip install tabulate"
   ]
  },
  {
   "cell_type": "code",
   "execution_count": 4,
   "id": "ae461cfa",
   "metadata": {
    "scrolled": true
   },
   "outputs": [
    {
     "name": "stdout",
     "output_type": "stream",
     "text": [
      "+----------------------+----------------------+\n",
      "| Data Science Tools   | Data Science Tools   |\n",
      "+======================+======================+\n",
      "| NumPy                | Keras                |\n",
      "+----------------------+----------------------+\n",
      "| Pandas               | PyTorch              |\n",
      "+----------------------+----------------------+\n",
      "| SciPy                | Scikit-Learn         |\n",
      "+----------------------+----------------------+\n",
      "| TensorFlow           | Matplotlib           |\n",
      "+----------------------+----------------------+\n"
     ]
    }
   ],
   "source": [
    "from tabulate import tabulate\n",
    " \n",
    "mydata = [\n",
    "    [\"NumPy\", \"Keras\"], \n",
    "    [\"Pandas\", \"PyTorch\"], \n",
    "    [\"SciPy\", \"Scikit-Learn\"], \n",
    "      [\"TensorFlow\", \"Matplotlib\"]\n",
    "]\n",
    " \n",
    "head = [\"Data Science Tools\",\"Data Science Tools\"]\n",
    " \n",
    "print(tabulate(mydata, headers=head, tablefmt=\"grid\"))"
   ]
  },
  {
   "cell_type": "markdown",
   "id": "89429a27",
   "metadata": {},
   "source": [
    "<h3>Below are a few examples of evaluating arithmetic expressions in Python"
   ]
  },
  {
   "cell_type": "code",
   "execution_count": 7,
   "id": "372bd6ee",
   "metadata": {},
   "outputs": [
    {
     "name": "stdout",
     "output_type": "stream",
     "text": [
      "17\n"
     ]
    }
   ],
   "source": [
    "x = (3*4)+5\n",
    "print(x)\n",
    "#This a simple arithmetic expression to mutiply then add integers"
   ]
  },
  {
   "cell_type": "code",
   "execution_count": 11,
   "id": "461ae36e",
   "metadata": {},
   "outputs": [
    {
     "name": "stdout",
     "output_type": "stream",
     "text": [
      "enter time in minutes200\n",
      "Hours= 3\n",
      "Minutes= 20\n"
     ]
    }
   ],
   "source": [
    "# This will convert 200 minutes to hours by diving by 60\n",
    "min = int(input(\"enter time in minutes\"))\n",
    "h=min//60\n",
    "m=min%60\n",
    "print(\"Hours=\",h)\n",
    "print(\"Minutes=\",m)"
   ]
  },
  {
   "cell_type": "markdown",
   "id": "0bca4f35",
   "metadata": {},
   "source": [
    "<h2>Author name:\n",
    "Doilyn Oliveira\n",
    "    "
   ]
  },
  {
   "cell_type": "code",
   "execution_count": null,
   "id": "4bdba6dc",
   "metadata": {},
   "outputs": [],
   "source": []
  }
 ],
 "metadata": {
  "kernelspec": {
   "display_name": "Python 3 (ipykernel)",
   "language": "python",
   "name": "python3"
  },
  "language_info": {
   "codemirror_mode": {
    "name": "ipython",
    "version": 3
   },
   "file_extension": ".py",
   "mimetype": "text/x-python",
   "name": "python",
   "nbconvert_exporter": "python",
   "pygments_lexer": "ipython3",
   "version": "3.11.5"
  }
 },
 "nbformat": 4,
 "nbformat_minor": 5
}
